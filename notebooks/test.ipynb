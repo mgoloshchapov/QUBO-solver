{
 "cells": [
  {
   "cell_type": "code",
   "execution_count": null,
   "metadata": {},
   "outputs": [],
   "source": [
    "# Run only once\n",
    "%cd .."
   ]
  },
  {
   "cell_type": "markdown",
   "metadata": {},
   "source": [
    "### 2-SAT Solver and Posix planted solutions"
   ]
  },
  {
   "cell_type": "code",
   "execution_count": null,
   "metadata": {},
   "outputs": [],
   "source": [
    "import numpy as np\n",
    "import matplotlib.pyplot as plt\n",
    "from src.qubo_solver.utils import *\n",
    "from src.qubo_solver.sat_solver import *\n",
    "from src.qubo_solver.plot import *"
   ]
  },
  {
   "cell_type": "code",
   "execution_count": null,
   "metadata": {},
   "outputs": [],
   "source": [
    "if __name__ == \"__main__\":\n",
    "    adjacency_list = {\n",
    "        0: set([1]),\n",
    "        1: set([2]),\n",
    "        2: set([0]),\n",
    "        3: set([4,7]),\n",
    "        4: set([5]),\n",
    "        5: set([0,6]),\n",
    "        6: set([0,2,4]),\n",
    "        7: set([3,5])\n",
    "    }\n",
    "\n",
    "    low_link = SCC(adjacency_list).get_scc()\n",
    "    draw_2sat(adjacency_list, low_link)"
   ]
  },
  {
   "cell_type": "code",
   "execution_count": null,
   "metadata": {},
   "outputs": [],
   "source": [
    "expression = [2, 5, 0, 5, 0, 4, 1, 4]\n",
    "adjacency_list = graph_from_2sat(expression)\n",
    "low_link = SCC(adjacency_list).get_scc()\n",
    "solution = get_solution(adjacency_list, low_link)\n",
    "print(*solution)\n",
    "draw_2sat(adjacency_list, low_link)"
   ]
  },
  {
   "cell_type": "code",
   "execution_count": null,
   "metadata": {},
   "outputs": [],
   "source": [
    "while True:\n",
    "    expression = generate_expression(510, 405)\n",
    "    adjacency_list = graph_from_2sat(expression)\n",
    "    low_link = SCC(adjacency_list).get_scc()\n",
    "\n",
    "    try:\n",
    "        solution = get_solution(adjacency_list, low_link)\n",
    "        draw_2sat(\n",
    "            adjacency_list, \n",
    "            low_link,\n",
    "            seed=121343\n",
    "            )\n",
    "        print(*solution)\n",
    "        break\n",
    "    except ValueError:\n",
    "        pass"
   ]
  },
  {
   "cell_type": "code",
   "execution_count": null,
   "metadata": {},
   "outputs": [],
   "source": [
    "expression = generate_expression(int(1e5), int(1e5))\n",
    "adjacency_list = graph_from_2sat(expression)\n",
    "low_link = SCC(adjacency_list).get_scc()\n",
    "solution = get_solution(adjacency_list, low_link)"
   ]
  },
  {
   "cell_type": "code",
   "execution_count": null,
   "metadata": {},
   "outputs": [],
   "source": [
    "n = int(1e2)\n",
    "iters = int(4e2)\n",
    "probs = [1.0]\n",
    "ms = range(1, 2*n+2, n//10)\n",
    "\n",
    "for m in ms[1:]:\n",
    "    t = 0\n",
    "    for _ in range(iters):\n",
    "        expression = generate_expression(n, m)\n",
    "        adjacency_list = graph_from_2sat(expression)\n",
    "        low_link = SCC(adjacency_list).get_scc()\n",
    "        try:\n",
    "            solution = get_solution(adjacency_list, low_link)\n",
    "            t += 1\n",
    "        except ValueError:\n",
    "            pass \n",
    "    probs.append(t/iters)"
   ]
  },
  {
   "cell_type": "code",
   "execution_count": null,
   "metadata": {},
   "outputs": [],
   "source": [
    "\n",
    "# probs += [0.0]\n",
    "plt.plot(ms, probs, linewidth=3, color='red', alpha=0.75)\n",
    "plt.xlim(0, 2*n)\n",
    "plt.xlabel('Prob')\n",
    "plt.ylabel(\"m\")\n",
    "plt.title(\"n=100\")\n",
    "# plt.ylim(0.0, 1.0)"
   ]
  },
  {
   "cell_type": "markdown",
   "metadata": {},
   "source": [
    "### Gradient-based planting"
   ]
  },
  {
   "cell_type": "code",
   "execution_count": null,
   "metadata": {},
   "outputs": [],
   "source": [
    "import torch\n",
    "import matplotlib.pyplot as plt"
   ]
  },
  {
   "cell_type": "code",
   "execution_count": null,
   "metadata": {},
   "outputs": [],
   "source": [
    "def find_Q(x, reg, iters=int(1e3)):\n",
    "    n = x.shape[0]\n",
    "    Q = torch.rand(size=(n, n), requires_grad=True)\n",
    "    W = torch.rand(size=(n, n))\n",
    "    W = reg * W / torch.norm(W)\n",
    "    optimiser = torch.optim.Adam([Q])\n",
    "    logs = []\n",
    "\n",
    "    for _ in range(iters):\n",
    "        loss = torch.dot(x, Q @ x) + torch.norm(Q@W)**2\n",
    "        loss.backward()\n",
    "        optimiser.step()\n",
    "        optimiser.zero_grad()\n",
    "        logs.append(loss.detach().numpy())\n",
    "            \n",
    "    return Q.detach(), logs\n",
    "\n",
    "\n",
    "def gen_all_binary_vectors(n: int) -> torch.Tensor:\n",
    "    return ((torch.arange(2**n).unsqueeze(1) >> torch.arange(n-1, -1, -1)) & 1).float()\n",
    "\n",
    "\n",
    "def is_solution(x: torch.Tensor, Q: torch.Tensor) -> bool:\n",
    "    n = len(x)\n",
    "    strings = gen_all_binary_vectors(n).T\n",
    "    answers = torch.sum(strings * (Q @ strings), axis=0)\n",
    "    \n",
    "    return torch.dot(x, Q @ x) <= torch.min(answers)\n",
    "    "
   ]
  },
  {
   "cell_type": "code",
   "execution_count": null,
   "metadata": {},
   "outputs": [],
   "source": [
    "n = 10\n",
    "reg = 1.0\n",
    "\n",
    "Q, logs = find_Q(x, reg=4, iters=int(1e4))\n",
    "print(torch.norm(Q))\n",
    "plt.plot(logs)"
   ]
  },
  {
   "cell_type": "markdown",
   "metadata": {},
   "source": [
    "### Chook testing"
   ]
  },
  {
   "cell_type": "code",
   "execution_count": null,
   "metadata": {},
   "outputs": [],
   "source": [
    "import matplotlib.pyplot as plt\n",
    "import numpy as np\n",
    "from chook.planters.wishart_planting import generate_problem"
   ]
  },
  {
   "cell_type": "code",
   "execution_count": null,
   "metadata": {},
   "outputs": [],
   "source": [
    "alpha = 0.3\n",
    "n, m = 100, int(alpha*n)\n",
    "Q = generate_problem(n, M=m)\n",
    "plt.imshow(Q)"
   ]
  }
 ],
 "metadata": {
  "kernelspec": {
   "display_name": "ML_GiraffeAI",
   "language": "python",
   "name": "python3"
  },
  "language_info": {
   "codemirror_mode": {
    "name": "ipython",
    "version": 3
   },
   "file_extension": ".py",
   "mimetype": "text/x-python",
   "name": "python",
   "nbconvert_exporter": "python",
   "pygments_lexer": "ipython3",
   "version": "3.10.12"
  }
 },
 "nbformat": 4,
 "nbformat_minor": 2
}
